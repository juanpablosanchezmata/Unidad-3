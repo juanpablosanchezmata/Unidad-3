{
  "nbformat": 4,
  "nbformat_minor": 0,
  "metadata": {
    "colab": {
      "provenance": [],
      "authorship_tag": "ABX9TyMS84WxKyvdfGYCFjLKZGsD",
      "include_colab_link": true
    },
    "kernelspec": {
      "name": "python3",
      "display_name": "Python 3"
    },
    "language_info": {
      "name": "python"
    }
  },
  "cells": [
    {
      "cell_type": "markdown",
      "metadata": {
        "id": "view-in-github",
        "colab_type": "text"
      },
      "source": [
        "<a href=\"https://colab.research.google.com/github/juanpablosanchezmata/Unidad-3/blob/main/recursividad.ipynb\" target=\"_parent\"><img src=\"https://colab.research.google.com/assets/colab-badge.svg\" alt=\"Open In Colab\"/></a>"
      ]
    },
    {
      "cell_type": "code",
      "execution_count": null,
      "metadata": {
        "colab": {
          "base_uri": "https://localhost:8080/"
        },
        "id": "Kv_N_CqM4oI3",
        "outputId": "9130ac3f-f11d-431f-a691-1bb91ae3b80b"
      },
      "outputs": [
        {
          "output_type": "stream",
          "name": "stdout",
          "text": [
            "El mayor de la lista es 16\n"
          ]
        }
      ],
      "source": [
        "def mayorLista (lista):\n",
        "\tif len(lista) == 1:\n",
        "\t\treturn lista[0]\n",
        "\telse:\n",
        "\t\t#Todos los elementos desde el indice 1\n",
        "\t\t#se llama asi misma cortando la lista hasta que tenga un solo\n",
        "\t\t#elemento y lo retorne\n",
        "\t\tm = mayorLista(lista[1:])\n",
        "\t\t#print(m)\n",
        "\t\t\n",
        "\t\t#compara los return aqui\n",
        "\t\tif m > lista[0]:\n",
        "\t\t\treturn m\n",
        "\t\telse:\n",
        "\t\t\treturn lista[0]\n",
        "\n",
        "lista = [3,16,4,1,9,12,4,5,7]\n",
        "print(f\"El mayor de la lista es {mayorLista(lista)}\")"
      ]
    }
  ]
}