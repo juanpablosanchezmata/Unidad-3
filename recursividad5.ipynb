{
  "nbformat": 4,
  "nbformat_minor": 0,
  "metadata": {
    "colab": {
      "provenance": [],
      "authorship_tag": "ABX9TyNlIiR8QIi3w+BTQYDe3Ci8",
      "include_colab_link": true
    },
    "kernelspec": {
      "name": "python3",
      "display_name": "Python 3"
    },
    "language_info": {
      "name": "python"
    }
  },
  "cells": [
    {
      "cell_type": "markdown",
      "metadata": {
        "id": "view-in-github",
        "colab_type": "text"
      },
      "source": [
        "<a href=\"https://colab.research.google.com/github/juanpablosanchezmata/Unidad-3/blob/main/recursividad5.ipynb\" target=\"_parent\"><img src=\"https://colab.research.google.com/assets/colab-badge.svg\" alt=\"Open In Colab\"/></a>"
      ]
    },
    {
      "cell_type": "code",
      "execution_count": 2,
      "metadata": {
        "colab": {
          "base_uri": "https://localhost:8080/"
        },
        "id": "sJ-MkGYtdIAx",
        "outputId": "0d468962-9408-41d0-fff4-9610cf7a7784"
      },
      "outputs": [
        {
          "output_type": "stream",
          "name": "stdout",
          "text": [
            "ADJF No es un palindromo\n"
          ]
        }
      ],
      "source": [
        "def palindromo(palabra):\n",
        "\tif len(palabra) < 1:\n",
        "\t\treturn True\n",
        "\telse:\n",
        "\t\tif palabra[0] == palabra[-1]:\n",
        "\t\t\treturn palindromo(palabra[1:-1])\n",
        "\t\telse:\n",
        "\t\t\treturn False\n",
        "\t\t\t\n",
        "texto = \"ADJF\"\n",
        "\n",
        "if (palindromo(texto)):\n",
        "\tprint(f\"{texto} Es un palindromo\")\n",
        "else:\n",
        "\tprint(f\"{texto} No es un palindromo\")"
      ]
    }
  ]
}