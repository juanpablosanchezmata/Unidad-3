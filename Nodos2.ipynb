{
  "nbformat": 4,
  "nbformat_minor": 0,
  "metadata": {
    "colab": {
      "provenance": [],
      "authorship_tag": "ABX9TyNhJ1OjZYQMADeOrTLZlhI0",
      "include_colab_link": true
    },
    "kernelspec": {
      "name": "python3",
      "display_name": "Python 3"
    },
    "language_info": {
      "name": "python"
    }
  },
  "cells": [
    {
      "cell_type": "markdown",
      "metadata": {
        "id": "view-in-github",
        "colab_type": "text"
      },
      "source": [
        "<a href=\"https://colab.research.google.com/github/juanpablosanchezmata/Unidad-3/blob/main/Nodos2.ipynb\" target=\"_parent\"><img src=\"https://colab.research.google.com/assets/colab-badge.svg\" alt=\"Open In Colab\"/></a>"
      ]
    },
    {
      "cell_type": "code",
      "execution_count": 5,
      "metadata": {
        "colab": {
          "base_uri": "https://localhost:8080/"
        },
        "id": "pz1Lo--nTi7A",
        "outputId": "ec2d8a74-2927-40d8-e4af-25a3ce76d24c"
      },
      "outputs": [
        {
          "output_type": "stream",
          "name": "stdout",
          "text": [
            "Manzanas\n",
            "Peras\n",
            "Bananas\n"
          ]
        }
      ],
      "source": [
        "class Nodo(object):\n",
        "    def __init__(self, dato=None, prox = None):\n",
        "        self.dato = dato\n",
        "        self.prox = prox\n",
        "    def __str__(self):\n",
        "        return str(self.dato)\n",
        "    v3=Nodo(\"Bananas\")\n",
        "    v2=Nodo(\"Peras\", v3)\n",
        "    v1=Nodo(\"Manzanas\", v2)\n",
        "\n",
        "\n",
        "    print(v1)\n",
        "    print(v2)\n",
        "    print(v3)"
      ]
    }
  ]
}