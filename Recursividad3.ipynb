{
  "nbformat": 4,
  "nbformat_minor": 0,
  "metadata": {
    "colab": {
      "provenance": [],
      "authorship_tag": "ABX9TyNnhv2PPEpfZLqAWoYsyMGL",
      "include_colab_link": true
    },
    "kernelspec": {
      "name": "python3",
      "display_name": "Python 3"
    },
    "language_info": {
      "name": "python"
    }
  },
  "cells": [
    {
      "cell_type": "markdown",
      "metadata": {
        "id": "view-in-github",
        "colab_type": "text"
      },
      "source": [
        "<a href=\"https://colab.research.google.com/github/juanpablosanchezmata/Unidad-3/blob/main/Recursividad3.ipynb\" target=\"_parent\"><img src=\"https://colab.research.google.com/assets/colab-badge.svg\" alt=\"Open In Colab\"/></a>"
      ]
    },
    {
      "cell_type": "code",
      "execution_count": 2,
      "metadata": {
        "colab": {
          "base_uri": "https://localhost:8080/"
        },
        "id": "xcV7rMZxMW2V",
        "outputId": "40f1eae3-31aa-4108-b198-8ecd6ea8377c"
      },
      "outputs": [
        {
          "output_type": "stream",
          "name": "stdout",
          "text": [
            "Entrada\n",
            "J\n",
            "U\n",
            "A\n",
            "N\n",
            "Salida\n",
            "N\n",
            "A\n",
            "U\n",
            "J\n"
          ]
        }
      ],
      "source": [
        "pila = []\n",
        "print(\"Entrada\")\n",
        "pila.append('J')\n",
        "print('J')\n",
        "pila.append('U')\n",
        "print('U')\n",
        "pila.append('A')\n",
        "print('A')\n",
        "pila.append('N')\n",
        "print('N')\n",
        "print(\"Salida\")\n",
        "n=pila.pop()\n",
        "print(n)\n",
        "n=pila.pop()\n",
        "print(n)\n",
        "n=pila.pop()\n",
        "print(n)\n",
        "n=pila.pop()\n",
        "print(n)"
      ]
    }
  ]
}