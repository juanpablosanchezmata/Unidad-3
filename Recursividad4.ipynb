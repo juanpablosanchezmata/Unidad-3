{
  "nbformat": 4,
  "nbformat_minor": 0,
  "metadata": {
    "colab": {
      "provenance": [],
      "authorship_tag": "ABX9TyOHVv1lNEfixW7b0oCQ5ZQN",
      "include_colab_link": true
    },
    "kernelspec": {
      "name": "python3",
      "display_name": "Python 3"
    },
    "language_info": {
      "name": "python"
    }
  },
  "cells": [
    {
      "cell_type": "markdown",
      "metadata": {
        "id": "view-in-github",
        "colab_type": "text"
      },
      "source": [
        "<a href=\"https://colab.research.google.com/github/juanpablosanchezmata/Unidad-3/blob/main/Recursividad4.ipynb\" target=\"_parent\"><img src=\"https://colab.research.google.com/assets/colab-badge.svg\" alt=\"Open In Colab\"/></a>"
      ]
    },
    {
      "cell_type": "code",
      "source": [
        "resultado = []\n",
        "n_repetir = 2\n",
        "a=[1, 3, 3, 7]\n",
        "\n",
        "for v in a:\n",
        "    l = [v] * n_repetir\n",
        "    resultado = resultado + l\n",
        "\n",
        "print(resultado)"
      ],
      "metadata": {
        "colab": {
          "base_uri": "https://localhost:8080/"
        },
        "id": "q-kULFlMQIvD",
        "outputId": "1cd65234-92e9-4194-ba7a-6d3805122e4a"
      },
      "execution_count": 10,
      "outputs": [
        {
          "output_type": "stream",
          "name": "stdout",
          "text": [
            "[1, 1, 3, 3, 3, 3, 7, 7]\n"
          ]
        }
      ]
    }
  ]
}